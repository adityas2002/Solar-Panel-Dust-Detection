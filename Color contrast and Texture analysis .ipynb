{
 "cells": [
  {
   "cell_type": "code",
   "execution_count": 2,
   "id": "e1b8e5d7",
   "metadata": {},
   "outputs": [
    {
     "name": "stdout",
     "output_type": "stream",
     "text": [
      "Contrast (Variance): 46705.914\n",
      "Dust area 1564.5 sq cm\n",
      "Mean Texture: 0.008629493464052288\n",
      "Std. Deviation of Texture: 5.488543389495842\n"
     ]
    }
   ],
   "source": [
    "import cv2\n",
    "import numpy as np\n",
    "\n",
    "# Loading image containing dust\n",
    "image = cv2.imread(r\"\"C:\\Users\\Manjula Sridhar\\Downloads\\IMG_20240213_112910.jpg\")  # Replace 'dust_image.jpg' with the path to your image\n",
    "\n",
    "# Converting the image to grayscale\n",
    "gray_image = cv2.cvtColor(image, cv2.COLOR_BGR2GRAY)\n",
    "\n",
    "# Calculate the histogram of the grayscale image\n",
    "hist = cv2.calcHist([gray_image], [0], None, [256], [0, 256])\n",
    "\n",
    "# Perform thresholding to create a binary mask of potential dust areas\n",
    "_, binary_mask = cv2.threshold(gray_image, 150, 255, cv2.THRESH_BINARY)\n",
    "\n",
    "# Calculate the contrast (variance) from the histogram\n",
    "mean = np.mean(hist)\n",
    "variance = np.mean((hist - mean) ** 2)\n",
    "\n",
    "print(\"Contrast (Variance):\", variance)\n",
    "\n",
    "# Apply morphology operations to refine the binary mask \n",
    "kernel = np.ones((5, 5), np.uint8)\n",
    "opened_mask = cv2.morphologyEx(binary_mask, cv2.MORPH_OPEN, kernel, iterations=2)\n",
    "\n",
    "# Find contours of potential dust regions\n",
    "contours, _ = cv2.findContours(opened_mask, cv2.RETR_EXTERNAL, cv2.CHAIN_APPROX_SIMPLE)\n",
    "\n",
    "# Calculate dust area in the image\n",
    "total_dust_area = sum(cv2.contourArea(c) for c in contours)\n",
    "print(\"Dust area\",total_dust_area,\"sq cm\")\n",
    "\n",
    "# Display the dust area on the image\n",
    " # Draw contours on the original image\n",
    "dust_area=cv2.drawContours(image, contours, -1, (0, 255, 0), 2) \n",
    "\n",
    "\n",
    "# Applying a Gaussian filter to the grayscale image to reduce noise\n",
    "blurred_image = cv2.GaussianBlur(gray_image, (5, 5), 0)\n",
    "\n",
    "# Compute the texture using the Laplacian operator\n",
    "texture = cv2.Laplacian(blurred_image, cv2.CV_64F)\n",
    "\n",
    "# Calculate the mean and standard deviation of the texture\n",
    "mean_texture = np.mean(texture)\n",
    "stddev_texture = np.std(texture)\n",
    "\n",
    "# Display the original image and texture map and dust area\n",
    "cv2.imshow('Original Image', image)\n",
    "cv2.imshow('Texture Map', texture)\n",
    "cv2.imshow('Dust areas', dust_area)\n",
    "\n",
    "\n",
    "# Print the mean and standard deviation of the texture\n",
    "print(f\"Mean Texture: {mean_texture}\")\n",
    "print(f\"Std. Deviation of Texture: {stddev_texture}\")\n",
    "\n",
    "\n",
    "\n",
    "# Save the image\n",
    "cv2.imwrite(r\"C:\\Users\\Manjula Sridhar\\Desktop\\Aditya\\7th Sem\\SPDT\\Texture analysis generated images\\texture_image.jpg\",texture)  # Save the image as 'saved_image.jpg'\n",
    "cv2.imwrite(r\"C:\\Users\\Manjula Sridhar\\Desktop\\Aditya\\7th Sem\\SPDT\\Texture analysis generated images\\dust_area_image.jpg\",dust_area)  # Save the image as 'saved_image.jpg'\n",
    "\n",
    "cv2.waitKey(0)\n",
    "\n",
    "cv2.destroyAllWindows()\n"
   ]
  },
  {
   "cell_type": "code",
   "execution_count": null,
   "id": "b777ef98",
   "metadata": {},
   "outputs": [],
   "source": []
  }
 ],
 "metadata": {
  "kernelspec": {
   "display_name": "Python 3 (ipykernel)",
   "language": "python",
   "name": "python3"
  },
  "language_info": {
   "codemirror_mode": {
    "name": "ipython",
    "version": 3
   },
   "file_extension": ".py",
   "mimetype": "text/x-python",
   "name": "python",
   "nbconvert_exporter": "python",
   "pygments_lexer": "ipython3",
   "version": "3.11.7"
  }
 },
 "nbformat": 4,
 "nbformat_minor": 5
}
